{
 "cells": [
  {
   "cell_type": "markdown",
   "metadata": {},
   "source": [
    "# The Asymmetric 2D Pendulum and Lissajous Curves\n",
    "\n",
    "*By* Timothy A. V. Teatro \n",
    "\n",
    "A presentation for UOIT's annual Science Rendezvous"
   ]
  },
  {
   "cell_type": "code",
   "execution_count": null,
   "metadata": {
    "scrolled": true
   },
   "outputs": [],
   "source": [
    "import numpy as np\n",
    "import matplotlib.pyplot as plt\n",
    "import matplotlib.animation as animation\n",
    "import scipy.integrate as integrate\n",
    "%pylab"
   ]
  },
  {
   "cell_type": "markdown",
   "metadata": {},
   "source": [
    "To model a 2D-pendulum, I'll divide it into two single-dimensional pendulums. Since we only need to work on one dimension at a time, let us consider Newton's equation of motion for a pendulum with drag in a single dimension:\n",
    "\n",
    "$$\n",
    "\\ddot\\theta - \\frac{g}{m\\,r}\\,\\sin\\theta + \\frac{b}{m}\\,\\dot{\\theta} = 0.\n",
    "$$\n",
    "\n",
    "The $\\sin\\theta$ term is the restoration term. It is the balance of tension and gravity coercing the pendulum pith back towards the resting position. The $\\dot{\\theta}$ term is the drag term. It represents parasitic losses from the air drag on the ball, and friction in the hinges. Notice that it is proportional to velocity: the faster things move, the faster energy is lost to the environment.\n",
    "\n",
    "It is useful to represent the system as a vector valued function on a two-dimensional state space $\\boldsymbol{x}\\in\\mathbf{R}$ where the first dimension is the angular displacement, $\\theta$, and the second dimension is the angular speed $\\dot{\\theta} = \\omega$. The vector equation for the system is\n",
    "\n",
    "$$\n",
    "\\dot{\\boldsymbol{x}} = \\frac{\\mathrm{d}}{\\mathrm{d}t}\\begin{bmatrix}\\theta\\\\ \\dot\\theta\\end{bmatrix} = \\begin{bmatrix}\\dot\\theta\\\\ \\frac{-g}{m\\,r}\\sin\\theta + \\frac{b}{m}\\,\\dot{\\theta}\\end{bmatrix} =: \\boldsymbol{f}(\\boldsymbol{x}),\n",
    "$$\n",
    "\n",
    "The energy of the pendulum will by the sum of Kinetic energy:\n",
    "\n",
    "$$\n",
    "  T = \\frac{1}{2}\\,m\\,(r\\,\\dot{\\theta})^2,\n",
    "$$\n",
    "\n",
    "and potential energy:\n",
    "\n",
    "$$\n",
    "  U = m\\,g\\,r\\,\\cos\\theta,\n",
    "$$\n",
    "\n",
    "so $E = T + U$.\n",
    "\n",
    "In Python, we'll express all of this in a class containing no state except the parameters"
   ]
  },
  {
   "cell_type": "code",
   "execution_count": null,
   "metadata": {
    "collapsed": true
   },
   "outputs": [],
   "source": [
    "class Pendulum1D:\n",
    "    \"\"\" Just the dynamics of the pendulum. Constants related to pendulum\n",
    "        design are stored here, but not the pendulum's state.\n",
    "    \"\"\"\n",
    "\n",
    "    def __init__(self, r=1, m=.5, b=.2, g=9.807):\n",
    "        self.r = r  # Radius, or length of string.\n",
    "        self.m = m  # Pith mass\n",
    "        self.b = b  # Drag loss coefficient\n",
    "        self.g = g  # Acceleration due to gravity\n",
    "\n",
    "    def dxdt(self, x, t):\n",
    "        # State of pendulum: x ∈ R^2, contains angular position and speed.\n",
    "        return np.array([x[1], -9.8 * np.sin(x[0]) / self.r - self.b * x[1]])\n",
    "\n",
    "    def energy(s, x):\n",
    "        T = s.m * (s.r * x[1])**2 / 2.\n",
    "        U = -s.m * s.g * s.r * np.cos(x[0])\n",
    "        return T + U\n"
   ]
  },
  {
   "cell_type": "markdown",
   "metadata": {},
   "source": [
    "The state of the simulation is contained in an object type, which aggregates the two pendulums. It also has a method for computing the total energy of the pendulums, and a utility for converting angular to Cartesian coordinates."
   ]
  },
  {
   "cell_type": "code",
   "execution_count": null,
   "metadata": {
    "collapsed": true
   },
   "outputs": [],
   "source": [
    "class PendulumSimulator2D:\n",
    "    \"\"\" The class aggregates dynamics for two 1D pendulums which is isomorphic\n",
    "        do a single 2D pendulum. (The x-direction doesn't care what the\n",
    "        y-direction is doing, so the 2D problem is trivially decoupled into\n",
    "        two 1D problems.)\n",
    "    \"\"\"\n",
    "\n",
    "    # yapf: disable\n",
    "    def __init__(self, r=[1, 1], m=0.5, b=0.2, g=9.807, dt=0.1,  # As before\n",
    "                 xx0=[0, 1],    # Initial state of x-pendulum\n",
    "                 xy0=[0, -1]):  # Initial state of y-pendulum\n",
    "        self.dt = dt\n",
    "        self.px = Pendulum1D(r=r[0], m=m, b=b, g=g)\n",
    "        self.py = Pendulum1D(r=r[1], m=m, b=b, g=g)\n",
    "\n",
    "        # Initial conditions\n",
    "        self.t = 0\n",
    "        self.xx = np.array(xx0)\n",
    "        self.xy = np.array(xy0)\n",
    "        self.E0 = self.energy(xx0, xy0)  # Starting energy\n",
    "        self.Erest = self.energy([0, 0], [0, 0])  # Rest energy\n",
    "    # yapf: enable\n",
    "\n",
    "    def energy(self, xx, xy):\n",
    "        return self.px.energy(xx) + self.py.energy(xy)\n",
    "\n",
    "    def angular_to_cartesian(self, pX):\n",
    "        \"\"\" The dynamics are performed on the angular coordinates. For plotting,\n",
    "            we'll want to convert with some basic trigonometry.\n",
    "                x = r * sin(theta)\n",
    "                dx/dt = r * cos(theta) * d.theta/dt\n",
    "        \"\"\"\n",
    "        return np.array(\n",
    "            [self.px.r * np.sin(pX[0]), self.py.r * np.cos(pX[0]) * pX[1]])\n",
    "\n",
    "    def __iter__(self):\n",
    "        return self\n",
    "\n",
    "    def __next__(self):\n",
    "        # Will return current data, and tee-up for next iteration.\n",
    "        prevX = (self.t, self.angular_to_cartesian(self.xx),\n",
    "                 self.angular_to_cartesian(self.xy))\n",
    "        self.xx = integrate.odeint(self.px.dxdt, self.xx, [0, self.dt])[-1]\n",
    "        self.xy = integrate.odeint(self.py.dxdt, self.xy, [0, self.dt])[-1]\n",
    "        self.t += self.dt\n",
    "        return prevX"
   ]
  },
  {
   "cell_type": "markdown",
   "metadata": {},
   "source": [
    "I recommend running the Python files. For some reason, the performance of the following block suffers in Jupyter."
   ]
  },
  {
   "cell_type": "code",
   "execution_count": null,
   "metadata": {
    "collapsed": true
   },
   "outputs": [],
   "source": [
    "    # Everything to do with plotting and animating.\n",
    "    preset = []\n",
    "    preset.append(dict(r=[2, 1.4], b=0.01))\n",
    "    preset.append(dict(r=[2, 1.8], b=0.02))\n",
    "    sim = PendulumSimulator2D(**preset[1], dt=0.03)\n",
    "\n",
    "    fig = plt.figure()\n",
    "    ax = fig.add_subplot(\n",
    "        111, aspect='equal', autoscale_on=False, xlim=(-1, 1), ylim=(-1, 1))\n",
    "    fig.subplots_adjust(\n",
    "        left=0.05, right=0.98, bottom=0.05, top=0.98, wspace=0.1)\n",
    "\n",
    "    line, = ax.plot([], [], 'r-', lw=1)\n",
    "    pith, = ax.plot([], [], 'o-', ms=15)\n",
    "    time_text = ax.text(0.02, 0.95, '', transform=ax.transAxes)\n",
    "\n",
    "    XHistory = []\n",
    "    YHistory = []\n",
    "\n",
    "    def animate(data):\n",
    "        t, X, Y = data\n",
    "        XHistory.append(X[0])\n",
    "        YHistory.append(Y[0])\n",
    "        pith.set_data(X[0], Y[0])\n",
    "        line.set_data(XHistory, YHistory)\n",
    "        time_text.set_text('time = %.1f' % t)\n",
    "        return line, pith, time_text\n",
    "\n",
    "    ani = animation.FuncAnimation(fig, animate, sim, blit=True, interval=10)\n",
    "    plt.show()"
   ]
  },
  {
   "cell_type": "markdown",
   "metadata": {
    "collapsed": true
   },
   "source": [
    "Copyright (C) 2017 By Timothy A. V. Teatro. All rights reserved."
   ]
  }
 ],
 "metadata": {
  "kernelspec": {
   "display_name": "Python 3",
   "language": "python",
   "name": "python3"
  },
  "language_info": {
   "codemirror_mode": {
    "name": "ipython",
    "version": 3
   },
   "file_extension": ".py",
   "mimetype": "text/x-python",
   "name": "python",
   "nbconvert_exporter": "python",
   "pygments_lexer": "ipython3",
   "version": "3.5.3"
  }
 },
 "nbformat": 4,
 "nbformat_minor": 2
}
