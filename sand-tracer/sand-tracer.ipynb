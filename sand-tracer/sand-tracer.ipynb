{
 "cells": [
  {
   "cell_type": "markdown",
   "metadata": {},
   "source": [
    "# The Asymmetric 2D Pendulum and Lissajous Curves\n",
    "\n",
    "*By* Timothy A. V. Teatro \n",
    "\n",
    "A presentation for UOIT's annual Science Rendezvous"
   ]
  },
  {
   "cell_type": "code",
   "execution_count": null,
   "metadata": {
    "scrolled": true
   },
   "outputs": [],
   "source": [
    "import numpy as np\n",
    "from scipy.integrate import odeint\n",
    "import matplotlib.pyplot as plt\n",
    "import matplotlib.animation as animation\n",
    "%pylab"
   ]
  },
  {
   "cell_type": "markdown",
   "metadata": {},
   "source": [
    "To model a 2D-pendulum, I'll divide it into two single-dimensional pendulums. Since we only need to work on one dimension at a time, let us consider Newton's equation of motion for a pendulum with drag in a single dimension:\n",
    "\n",
    "$$\n",
    "\\ddot\\theta - \\frac{g}{r}\\,\\sin\\theta + \\frac{b}{m}\\,\\dot{\\theta} = 0.\n",
    "$$\n",
    "\n",
    "The $\\sin\\theta$ term is the restoration term. It is the balance of tension and gravity coercing the pendulum pith back towards the resting position. The $\\dot{\\theta}$ term is the drag term. It represents parasitic losses from the air drag on the ball, and friction in the hinges. Notice that it is proportional to velocity: the faster things move, the faster energy is lost to the environment.\n",
    "\n",
    "It is useful to represent the system as a vector valued function on a two-dimensional state space $\\boldsymbol{x}\\in\\mathbf{R}$ where the first dimension is the angular displacement, $\\theta$, and the second dimension is the angular speed $\\dot{\\theta} = \\omega$. The vector equation for the system is\n",
    "\n",
    "$$\n",
    "\\dot{\\boldsymbol{x}} = \\frac{\\mathrm{d}}{\\mathrm{d}t}\\begin{bmatrix}\\theta\\\\ \\dot\\theta\\end{bmatrix} = \\begin{bmatrix}\\dot\\theta\\\\ \\frac{-g}{m\\,r}\\sin\\theta + \\frac{b}{m}\\,\\dot{\\theta}\\end{bmatrix} =: \\boldsymbol{f}(\\boldsymbol{x}),\n",
    "$$\n",
    "\n",
    "The energy of the pendulum will by the sum of Kinetic energy:\n",
    "\n",
    "$$\n",
    "  T = \\frac{1}{2}\\,m\\,(r\\,\\dot{\\theta})^2,\n",
    "$$\n",
    "\n",
    "and potential energy:\n",
    "\n",
    "$$\n",
    "  U = m\\,g\\,r\\,(1-\\cos\\theta),\n",
    "$$\n",
    "\n",
    "so $E = T + U$.\n",
    "\n",
    "In Python, we'll express all of this in a class containing no state except the parameters. The class should also have a method for converting angular to Cartesian coordinates, since that conversion will depend on the structure of the pendulum."
   ]
  },
  {
   "cell_type": "code",
   "execution_count": null,
   "metadata": {
    "collapsed": true
   },
   "outputs": [],
   "source": [
    "class Pendulum1D:\n",
    "    \"\"\" Just the dynamics of the pendulum. Constants related to pendulum\n",
    "        design are stored here, but not the pendulum's state.\n",
    "    \"\"\"\n",
    "\n",
    "    def __init__(self, r=1, m=.5, b=.2, g=9.807):\n",
    "        self.r = r  # Radius, or length of string.\n",
    "        self.m = m  # Pith mass\n",
    "        self.b = b  # Drag loss coefficient\n",
    "        self.g = g  # Acceleration due to gravity\n",
    "\n",
    "    def dxdt(self, x, t):\n",
    "        # State of pendulum: x ∈ R^2, contains angular position and speed.\n",
    "        return np.array(\n",
    "            [x[1], -9.8 * np.sin(x[0]) / self.r - self.b * x[1] / self.m])\n",
    "\n",
    "    def energy(s, x):\n",
    "        T = s.m * (s.r * x[1])**2 / 2.\n",
    "        U = s.m * s.g * s.r * (1 - np.cos(x[0]))\n",
    "        return T + U\n",
    "\n",
    "    def proj_horiz(self, pX):\n",
    "        \"\"\" The dynamics are performed on the angular coordinates. For plotting,\n",
    "            we'll want to convert with some basic trigonometry.\n",
    "                x = r * sin(theta)\n",
    "                dx/dt = r * cos(theta) * d.theta/dt\n",
    "        \"\"\"\n",
    "        return np.array(\n",
    "            [self.r * np.sin(pX[0]), self.r * np.cos(pX[0]) * pX[1]])"
   ]
  },
  {
   "cell_type": "markdown",
   "metadata": {},
   "source": [
    "The state of the simulation is contained in an object type, which aggregates the two pendulums. It also has a method for computing the total energy of the pendulum, as the sum of the individual pendulums."
   ]
  },
  {
   "cell_type": "code",
   "execution_count": null,
   "metadata": {
    "collapsed": true
   },
   "outputs": [],
   "source": [
    "class PendulumState2D:\n",
    "    \"\"\" The class aggregates dynamics for two 1D pendulums, simulating a 2D\n",
    "        pendulum.\n",
    "    \"\"\"\n",
    "\n",
    "    # yapf: disable\n",
    "    def __init__(self, r=[1, 1], m=0.5, b=0.2, g=9.807, dt=0.1,  # As before\n",
    "                 xx0=[0, 1],    # Initial state of x-pendulum\n",
    "                 xy0=[0, -1]):  # Initial state of y-pendulum\n",
    "        self.dt = dt\n",
    "        self.px = Pendulum1D(r=r[0], m=m, b=b, g=g)\n",
    "        self.py = Pendulum1D(r=r[1], m=m, b=b, g=g)\n",
    "\n",
    "        # Initial conditions\n",
    "        self.t = 0\n",
    "        self.xx, self.xy = np.array(xx0), np.array(xy0)\n",
    "        self.xx0, self.xy0 = np.array(xx0), np.array(xy0)\n",
    "        self.E0 = self.energy(xx0, xy0)  # Starting energy\n",
    "    # yapf: enable\n",
    "\n",
    "    def reset(self):\n",
    "        self.t = 0\n",
    "        self.xx, self.xy = self.xx0, self.xy0\n",
    "\n",
    "    def energy(self, xx=None, xy=None):\n",
    "        if xx is None:\n",
    "            xx, xy = self.xx, self.xy\n",
    "        return self.px.energy(xx) + self.py.energy(xy)\n",
    "\n",
    "    def step(self):\n",
    "        self.xx = odeint(self.px.dxdt, self.xx, [0, self.dt])[-1]\n",
    "        self.xy = odeint(self.py.dxdt, self.xy, [0, self.dt])[-1]\n",
    "        self.t += self.dt"
   ]
  },
  {
   "cell_type": "markdown",
   "metadata": {},
   "source": [
    "Now, define the initial conditions to be passed to the `PendulumState2D` initialiser:"
   ]
  },
  {
   "cell_type": "code",
   "execution_count": null,
   "metadata": {
    "collapsed": true
   },
   "outputs": [],
   "source": [
    "initial_contidionts = dict(r=[.78, .9], b=0.04, xx0=[1, -.2], xy0=[-.33, .1])"
   ]
  },
  {
   "cell_type": "markdown",
   "metadata": {},
   "source": [
    "The action of stepping the simulation forward and returning the state can be conveniently expressed in a generator. A generator is an abstraction in Python that combines an interator and a coroutine. Rather than `return`ing from a generator, you merely `yield` which doesn't clear the stack frame, alloing the function to resume from the previous tate. The use of `yield` automatically causes the fucntion to return a generator object, which can be iterated over. We'll create one, and later, pass it to the antimation routine:"
   ]
  },
  {
   "cell_type": "code",
   "execution_count": null,
   "metadata": {
    "collapsed": true
   },
   "outputs": [],
   "source": [
    "def pendulum_sim_generator():\n",
    "    \"\"\" A generator which steps the simulation and returns the simulated state.\n",
    "    \"\"\"\n",
    "    state = PendulumState2D(**initial_contidionts, dt=0.03)\n",
    "\n",
    "    while True:\n",
    "        yield state\n",
    "        state.step()"
   ]
  },
  {
   "cell_type": "markdown",
   "metadata": {},
   "source": [
    "At this point, all of the simulation logic is handled, now we can go about the business of plotting and animating:"
   ]
  },
  {
   "cell_type": "code",
   "execution_count": null,
   "metadata": {
    "collapsed": true
   },
   "outputs": [],
   "source": [
    "    fig = plt.figure()\n",
    "    ax = fig.add_subplot(\n",
    "        111, aspect='equal', autoscale_on=False, xlim=(-1, 1), ylim=(-1, 1))\n",
    "    fig.subplots_adjust(\n",
    "        left=0.05, right=0.98, bottom=0.05, top=0.98, wspace=0.1)\n",
    "\n",
    "    line, = ax.plot([], [], 'r-', lw=1)\n",
    "    pith, = ax.plot([], [], 'o-', ms=15)\n",
    "    time_text = ax.text(0.02, 0.95, '', transform=ax.transAxes)\n",
    "    energy_text = ax.text(0.02, 0.92, '', transform=ax.transAxes)\n",
    "\n",
    "    XHistory = []\n",
    "    YHistory = []\n",
    "\n",
    "    def animate(sim_state):\n",
    "\n",
    "        if np.abs(sim_state.energy()) <= 0.05 * sim_state.E0:\n",
    "            sim_state.reset()\n",
    "            XHistory.clear()\n",
    "            YHistory.clear()\n",
    "            return line, pith, time_text, energy_text\n",
    "\n",
    "        XHistory.append(sim_state.xx[0])\n",
    "        YHistory.append(sim_state.xy[0])\n",
    "        pith.set_data(sim_state.xx[0], sim_state.xy[0])\n",
    "        line.set_data(XHistory, YHistory)\n",
    "        time_text.set_text('time = %.1f' % sim_state.t)\n",
    "        energy_text.set_text('energy = %.2f J' % sim_state.energy())\n",
    "        return line, pith, time_text, energy_text\n",
    "\n",
    "    ani = animation.FuncAnimation(\n",
    "        fig, animate, pendulum_sim_generator, blit=True, interval=10)\n",
    "    mng = plt.get_current_fig_manager()\n",
    "    mng.full_screen_toggle()\n",
    "    plt.show()"
   ]
  },
  {
   "cell_type": "markdown",
   "metadata": {
    "collapsed": true
   },
   "source": [
    "Copyright (C) 2017 By Timothy A. V. Teatro. All rights reserved."
   ]
  }
 ],
 "metadata": {
  "kernelspec": {
   "display_name": "Python 3",
   "language": "python",
   "name": "python3"
  },
  "language_info": {
   "codemirror_mode": {
    "name": "ipython",
    "version": 3
   },
   "file_extension": ".py",
   "mimetype": "text/x-python",
   "name": "python",
   "nbconvert_exporter": "python",
   "pygments_lexer": "ipython3",
   "version": "3.5.3"
  }
 },
 "nbformat": 4,
 "nbformat_minor": 2
}
